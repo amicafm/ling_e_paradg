{
 "cells": [
  {
   "cell_type": "markdown",
   "metadata": {},
   "source": [
    "Defina a função soma_nat que recebe como argumento um número natural  n\n",
    "  e devolve a soma de todos os números naturais até  n.\n",
    "\n",
    "Ex: soma_nat(5) = 15\n"
   ]
  },
  {
   "cell_type": "code",
   "execution_count": 1,
   "metadata": {},
   "outputs": [
    {
     "ename": "SyntaxError",
     "evalue": "invalid syntax (<ipython-input-1-3e8bdad83402>, line 1)",
     "output_type": "error",
     "traceback": [
      "\u001b[1;36m  File \u001b[1;32m\"<ipython-input-1-3e8bdad83402>\"\u001b[1;36m, line \u001b[1;32m1\u001b[0m\n\u001b[1;33m    def soma_nat(n)\u001b[0m\n\u001b[1;37m                   ^\u001b[0m\n\u001b[1;31mSyntaxError\u001b[0m\u001b[1;31m:\u001b[0m invalid syntax\n"
     ]
    }
   ],
   "source": [
    "def soma_nat(n):\n",
    "     if n > 0\n",
    "        return n + soma_nat(n - 1)"
   ]
  },
  {
   "cell_type": "markdown",
   "metadata": {},
   "source": [
    "Defina a função prod_lista que recebe como argumento uma lista de inteiros e devolve o produto dos seus elementos.\n",
    "\n",
    "Ex: prod_lista([1,2,3,4,5,6]) = 720"
   ]
  },
  {
   "cell_type": "code",
   "execution_count": 2,
   "metadata": {},
   "outputs": [
    {
     "ename": "SyntaxError",
     "evalue": "invalid syntax (<ipython-input-2-8914f6ae99bf>, line 3)",
     "output_type": "error",
     "traceback": [
      "\u001b[1;36m  File \u001b[1;32m\"<ipython-input-2-8914f6ae99bf>\"\u001b[1;36m, line \u001b[1;32m3\u001b[0m\n\u001b[1;33m    if len(lista) > 0\u001b[0m\n\u001b[1;37m                     ^\u001b[0m\n\u001b[1;31mSyntaxError\u001b[0m\u001b[1;31m:\u001b[0m invalid syntax\n"
     ]
    }
   ],
   "source": [
    "def prod_lista(lista):\n",
    "    lista = [1,2,3,4,5,6]\n",
    "    if len(lista) > 0:\n",
    "        return lista[len(lista) - 1] * prod_lista(lista)"
   ]
  },
  {
   "cell_type": "markdown",
   "metadata": {},
   "source": [
    "Defina a função contem_parQ que recebe como argumento uma lista de números inteiros  w e devolve True se w contém um número par e False em caso contrário.\n",
    "\n",
    "Ex: contem_parQ([2,3,1,2,3,4]) = True\n",
    "Ex: contem_parQ([1,3,5,7]) = False\n"
   ]
  },
  {
   "cell_type": "code",
   "execution_count": 3,
   "metadata": {},
   "outputs": [
    {
     "ename": "SyntaxError",
     "evalue": "invalid syntax (<ipython-input-3-1b15173983b1>, line 5)",
     "output_type": "error",
     "traceback": [
      "\u001b[1;36m  File \u001b[1;32m\"<ipython-input-3-1b15173983b1>\"\u001b[1;36m, line \u001b[1;32m5\u001b[0m\n\u001b[1;33m    else\u001b[0m\n\u001b[1;37m         ^\u001b[0m\n\u001b[1;31mSyntaxError\u001b[0m\u001b[1;31m:\u001b[0m invalid syntax\n"
     ]
    }
   ],
   "source": [
    "def contem_parq(w):\n",
    "    w = [2,3,1,2,3,4]\n",
    "    if [len(w) - 1] % 2 != 0:\n",
    "        return false\n",
    "    else \n",
    "        return true"
   ]
  },
  {
   "cell_type": "markdown",
   "metadata": {},
   "source": [
    "Defina a função div que recebe como argumentos dois números naturais  m\n",
    "  e  n  e devolve o resultado da divisão inteira de  m  por  n. Neste exercício você não pode recorrer às operações aritméticas de multiplicação, divisão e resto da divisão inteira.\n",
    "\n",
    "Ex: div(7,2) = 3\n"
   ]
  },
  {
   "cell_type": "code",
   "execution_count": 4,
   "metadata": {},
   "outputs": [
    {
     "ename": "SyntaxError",
     "evalue": "invalid syntax (<ipython-input-4-368af2cb369b>, line 4)",
     "output_type": "error",
     "traceback": [
      "\u001b[1;36m  File \u001b[1;32m\"<ipython-input-4-368af2cb369b>\"\u001b[1;36m, line \u001b[1;32m4\u001b[0m\n\u001b[1;33m    else\u001b[0m\n\u001b[1;37m         ^\u001b[0m\n\u001b[1;31mSyntaxError\u001b[0m\u001b[1;31m:\u001b[0m invalid syntax\n"
     ]
    }
   ],
   "source": [
    "def div(m,n):\n",
    "    if m >= n:\n",
    "        return 1 + div(m - n, n)\n",
    "    else: "
   ]
  },
  {
   "cell_type": "markdown",
   "metadata": {},
   "source": [
    "Defina a função junta que recebe como argumentos duas listas de números inteiros  w1  e  w2  e devolve a concatenação de  w1  com  w2 .\n",
    "\n",
    "Ex: junta([1,2,3],[4,5,6]) = [1, 2, 3, 4, 5, 6]\n",
    "Ex: junta([],[4,5,6]) = [4, 5, 6]\n",
    "Ex: junta([1,2,3],[]) = [1, 2, 3]"
   ]
  },
  {
   "cell_type": "code",
   "execution_count": 5,
   "metadata": {},
   "outputs": [
    {
     "ename": "SyntaxError",
     "evalue": "invalid syntax (<ipython-input-5-2a0c77ce1ecc>, line 4)",
     "output_type": "error",
     "traceback": [
      "\u001b[1;36m  File \u001b[1;32m\"<ipython-input-5-2a0c77ce1ecc>\"\u001b[1;36m, line \u001b[1;32m4\u001b[0m\n\u001b[1;33m    print junta(w1 + w2)\u001b[0m\n\u001b[1;37m              ^\u001b[0m\n\u001b[1;31mSyntaxError\u001b[0m\u001b[1;31m:\u001b[0m invalid syntax\n"
     ]
    }
   ],
   "source": [
    "def junta(w1, w2):\n",
    "    w1 = [1,4,5,6,3]\n",
    "    w2 = [7,8,11,26]\n",
    "    print (junta[w1 + w2])"
   ]
  },
  {
   "cell_type": "code",
   "execution_count": null,
   "metadata": {},
   "outputs": [],
   "source": []
  }
 ],
 "metadata": {
  "kernelspec": {
   "display_name": "Python 3",
   "language": "python",
   "name": "python3"
  },
  "language_info": {
   "codemirror_mode": {
    "name": "ipython",
    "version": 3
   },
   "file_extension": ".py",
   "mimetype": "text/x-python",
   "name": "python",
   "nbconvert_exporter": "python",
   "pygments_lexer": "ipython3",
   "version": "3.6.4"
  }
 },
 "nbformat": 4,
 "nbformat_minor": 2
}
