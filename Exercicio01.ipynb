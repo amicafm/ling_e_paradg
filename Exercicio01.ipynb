{
 "cells": [
  {
   "cell_type": "markdown",
   "metadata": {},
   "source": [
    " Faça um Programa que peça o raio de um círculo, calcule e mostre sua área"
   ]
  },
  {
   "cell_type": "code",
   "execution_count": null,
   "metadata": {},
   "outputs": [],
   "source": [
    "pi = 3.14 \n",
    "raio  = input('Digite a área do Circulo em metros: ')\n",
    "a =  pi * (r * r)\n",
    "print ('A área do circulo é', a,'m²')"
   ]
  },
  {
   "cell_type": "markdown",
   "metadata": {},
   "source": [
    "Faça um Programa que calcule a área de um quadrado, em seguida mostre o dobro desta área para o usuário"
   ]
  },
  {
   "cell_type": "code",
   "execution_count": null,
   "metadata": {},
   "outputs": [],
   "source": [
    "altura = input('Digite a altura do quadrado em metros') \n",
    "largura = input('Digite a largura do quadrado em metros')\n",
    "a = altura * largura \n",
    "print ('O dobro da area é', a * 2,'m²')\n"
   ]
  },
  {
   "cell_type": "markdown",
   "metadata": {},
   "source": [
    " Faça um Programa que pergunte quanto você ganha por hora e o número de horas trabalhadas no mês. Calcule e mostre o total do seu salário no referido mês. "
   ]
  },
  {
   "cell_type": "code",
   "execution_count": null,
   "metadata": {},
   "outputs": [],
   "source": [
    "valor_hora = float(input('Digite o quanto ganha por hora: '))\n",
    "horas_mensais = int(input('Digite a quantidade de horas trabalhadas no mês: '))\n",
    "\n",
    "salario = valor_hora * horas_mensais\n",
    "\n",
    "\n",
    "print('O salário é: R$ %.2f' % salario)\n"
   ]
  },
  {
   "cell_type": "markdown",
   "metadata": {},
   "source": [
    "Faça um Programa que peça a temperatura em graus Farenheit, transforme e mostre a temperatura em graus Celsius. C = (5 * (F-32) / 9). "
   ]
  },
  {
   "cell_type": "code",
   "execution_count": null,
   "metadata": {},
   "outputs": [],
   "source": [
    "f = float(raw_input('Informe a temperatura em Farenheit: '))\n",
    "c = (5 * (f - 32) / 9)\n",
    "print ()'A temperatura convertida para Celsius e: %s' %c)\n"
   ]
  },
  {
   "cell_type": "markdown",
   "metadata": {},
   "source": [
    "Faça um Programa que peça a temperatura em graus Celsius, transforme e mostre em graus Farenheit. "
   ]
  },
  {
   "cell_type": "code",
   "execution_count": null,
   "metadata": {},
   "outputs": [],
   "source": [
    "c = input('Informe a temperatura em celsius: ')\n",
    "fml = c * 1.8\n",
    "f = fml + 32\n",
    "print f"
   ]
  },
  {
   "cell_type": "markdown",
   "metadata": {},
   "source": [
    "Faça um Programa que peça 2 números inteiros e um número real. Calcule e mostre: - o produto do dobro do primeiro com metade do segundo . - a soma do triplo do primeiro com o terceiro. - o terceiro elevado ao cubo. "
   ]
  },
  {
   "cell_type": "code",
   "execution_count": null,
   "metadata": {},
   "outputs": [],
   "source": [
    "import math\n",
    "\n",
    "n1 = input('Digite o primeiro numero:')\n",
    "n2 = input('Digite o segundo numero:')\n",
    "nReal = input('Digite o numero real:')\n",
    "r1 = n1 * 2 * (n2 / 2)          \n",
    "print ('o produto do dobro do primeiro com metade do segundo = ', r1) \n",
    "r2 = n1 *  3 + nReal\n",
    "print ('a soma do triplo do primeiro com o terceiro = ', r2)\n",
    "r3 = nReal ** 3\n",
    "print ('o terceiro elevado ao cubo', r3)"
   ]
  },
  {
   "cell_type": "markdown",
   "metadata": {},
   "source": [
    "João Papo-de-Pescador, homem de bem, comprou um microcomputador para controlar o rendimento diário de seu trabalho. Toda vez que ele traz um peso de peixes maior que o estabelecido pelo regulamento de pesca do estado de São Paulo (50 quilos) deve pagar uma multa de R$ 4,00 por quilo excedente. João precisa que você faça um programa que leia a variável peso (peso de peixes) e verifique se há \n",
    "excesso. Se houver, gravar na variável excesso e na variável multa o valor da multa que João deverá pagar. Caso contrário mostrar tais variáveis com o conteúdo ZERO. "
   ]
  },
  {
   "cell_type": "code",
   "execution_count": null,
   "metadata": {},
   "outputs": [],
   "source": [
    "peixesP = input('Digite o numero de peixes pescados: ')\n",
    "\n",
    "if peixesP > 50:\n",
    "    peixesE = peixesP - 50\n",
    "    multa = peixesE * 4.00\n",
    "    print ('Você exedeu', pExedidos,'do numero permitido de peixes e o valor de sua multa é de R$', multa)\n",
    "else:\n",
    "    print ('Você não execeu o limite de peixes pescados')"
   ]
  },
  {
   "cell_type": "markdown",
   "metadata": {},
   "source": [
    "Faça um Programa que pergunte quanto você ganha por hora e o número de horas trabalhadas no mês. Calcule e mostre o total do seu salário no referido mês, sabendo-se que são descontados 11% para o Imposto de Renda, 8% para o INSS e 5% para o sindicato, faça um programa que nos dê: - salário bruto. - quanto pagou ao INSS. - quanto pagou ao sindicato. - o salário líquido. - calcule os descontos e o salário líquido, conforme a tabela abaixo:            + Salário Bruto : R$            - IR (11%) : R$            - INSS (8%) : R$            - Sindicato ( 5%) : R$            = Salário Liquido : R$ Obs.: Salário Bruto - Descontos = Salário Líquido. "
   ]
  },
  {
   "cell_type": "code",
   "execution_count": null,
   "metadata": {},
   "outputs": [],
   "source": [
    "qH = input('Quanto você ganha por hora:')\n",
    "hT = input('Quantas horas você trabalhou: ')\n",
    "\n",
    "salarioB = qH * hT\n",
    "\n",
    "ir = (11/100.0 * salarioB)\n",
    "inss = (8/100.0 * salarioB)\n",
    "sindicato = (5/100.0 * salarioB)\n",
    "\n",
    "vT = ir + inss + sindicato\n",
    "salarioL = salarioB - vT\n",
    "\n",
    "print ('Seu salário bruto é', salarioB)\n",
    "\n",
    "print ('Valor dos impostos:')\n",
    "print ('IR: ', ir)\n",
    "print ('INSS: ', inss)\n",
    "print ('Sindicato: ', sindicato)\n",
    "\n",
    "print ('Seu salário liquido é: ',salarioL)"
   ]
  },
  {
   "cell_type": "markdown",
   "metadata": {},
   "source": [
    " Faça um programa que leia 2 strings e informe o conteúdo delas seguido do seu comprimento. Informe também se as duas strings possuem o mesmo comprimento e são iguais ou diferentes no conteúdo. Exemplo: String 1: Brasil Hexa 2018 String 2: Brasil! Hexa 2018! Tamanho de \"Brasil Hexa 2018\": 16 caracteres Tamanho de \"Brasil! Hexa 2018!\": 18 caracteres As duas strings são de tamanhos diferentes. As duas strings possuem conteúdo diferente."
   ]
  },
  {
   "cell_type": "code",
   "execution_count": null,
   "metadata": {},
   "outputs": [],
   "source": [
    "s1 = input(\"String 1: \")\n",
    "s2 = input(\"String 2: \")\n",
    "\n",
    "print(\"Tamanho de s1: %d\" %len(s1))\n",
    "print(\"Tamanho de s2: %d\" %len(s2))\n",
    "\n",
    "if len(s1) == len(s2):\n",
    "    print(\"Tamanhos iguais\")\n",
    "else:\n",
    "    print(\"Possuem tamanhos diferentes\")\n",
    "\n",
    "if s1.lower() == s2.lower():\n",
    "    print(\"São iguais\")\n",
    "else: \n",
    "    print(\"Mas diferentes\")"
   ]
  },
  {
   "cell_type": "markdown",
   "metadata": {},
   "source": [
    "Faça um programa que permita ao usuário digitar o seu nome e em seguida mostre o nome do usuário de trás para frente utilizando somente letras maiúsculas. Dica: lembre−se que ao informar o nome o usuário pode digitar letras maiúsculas ou minúsculas. "
   ]
  },
  {
   "cell_type": "code",
   "execution_count": null,
   "metadata": {},
   "outputs": [],
   "source": [
    "nome = \"\"\n",
    "s = \"\" \n",
    "\n",
    "nome = input(\"Informe o seu nome:\")\n",
    "\n",
    "for letra in reversed(nome):\n",
    "    s+=letra\n",
    "print(s.upper())"
   ]
  },
  {
   "cell_type": "markdown",
   "metadata": {},
   "source": []
  },
  {
   "cell_type": "markdown",
   "metadata": {},
   "source": [
    " Faça um programa que solicite a data de nascimento (dd/mm/aaaa) do usuário e imprima a data com o nome do mês por extenso. Data de Nascimento: 29/10/1973 \n",
    "Você nasceu em  29 de Outubro de 1973.  "
   ]
  },
  {
   "cell_type": "code",
   "execution_count": null,
   "metadata": {},
   "outputs": [],
   "source": []
  },
  {
   "cell_type": "code",
   "execution_count": null,
   "metadata": {},
   "outputs": [],
   "source": [
    "meses = [\"janeiro\",\n",
    "         \"fevereiro\",\n",
    "         \"março\",\n",
    "         \"abril\",\n",
    "         \"maio\",\n",
    "         \"junho\",\n",
    "         \"julho\",\n",
    "         \"agosto\",\n",
    "         \"setembro\",\n",
    "         \"outubro\",\n",
    "         \"novembro\",\n",
    "         \"dezembro\"]\n",
    "\n",
    "data = input(\"informe a data (dd/mm/aaaa): \")\n",
    "\n",
    "\n",
    "print ((data.split(\"/\")[0], \"de\", meses[(int(data.split(\"/\")[1])-1)],\"de\", data.split(\"/\")[2])"
   ]
  },
  {
   "cell_type": "markdown",
   "metadata": {},
   "source": [
    " Leet é uma forma de se escrever o alfabeto latino usando outros símbolos em lugar das letras, como números por exemplo. A própria palavra leet admite muitas variações, como l33t ou 1337. O uso do leet reflete uma subcultura relacionada ao mundo dos jogos de computador e internet, sendo muito usada para confundir os iniciantes e afirmar-se como parte de um grupo. Pesquise sobre as principais formas de traduzir as letras. Depois, faça um programa que peça uma texto e transforme-o para a grafia leet speak. "
   ]
  },
  {
   "cell_type": "code",
   "execution_count": null,
   "metadata": {},
   "outputs": [],
   "source": []
  }
 ],
 "metadata": {
  "kernelspec": {
   "display_name": "Python 3",
   "language": "python",
   "name": "python3"
  },
  "language_info": {
   "codemirror_mode": {
    "name": "ipython",
    "version": 3
   },
   "file_extension": ".py",
   "mimetype": "text/x-python",
   "name": "python",
   "nbconvert_exporter": "python",
   "pygments_lexer": "ipython3",
   "version": "3.6.4"
  }
 },
 "nbformat": 4,
 "nbformat_minor": 2
}
