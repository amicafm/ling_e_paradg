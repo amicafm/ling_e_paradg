{
 "cells": [
  {
   "cell_type": "markdown",
   "metadata": {},
   "source": [
    "1. Faça um Programa que peça dois números e imprima o maior deles. "
   ]
  },
  {
   "cell_type": "code",
   "execution_count": 5,
   "metadata": {},
   "outputs": [
    {
     "name": "stdout",
     "output_type": "stream",
     "text": [
      "Digite o primero numero: 5\n",
      "Digite o segundo numero: 2\n",
      "5\n"
     ]
    }
   ],
   "source": [
    "n1 = input('Digite o primero numero: ')\n",
    "n2 = input('Digite o segundo numero: ')\n",
    "\n",
    "if n1 > n2:\n",
    "    print (n1)\n",
    "elif n2 > n1:\n",
    "    print (n2)\n",
    "else: \n",
    "    print ('os numeros são iguais')"
   ]
  },
  {
   "cell_type": "markdown",
   "metadata": {},
   "source": [
    "2. Faça um Programa que verifique se uma letra digitada é vogal ou consoante. "
   ]
  },
  {
   "cell_type": "code",
   "execution_count": 7,
   "metadata": {},
   "outputs": [
    {
     "name": "stdout",
     "output_type": "stream",
     "text": [
      "Digite uma letra : r\n",
      "A letra é uma consoante\n"
     ]
    }
   ],
   "source": [
    "letra = input('Digite uma letra: ')\n",
    "\n",
    "if letra == 'a' or letra == 'e' or letra == 'i' or letra == 'o' or letra == 'u':\n",
    "    print ('A letra é uma vogal')\n",
    "else:\n",
    "    print ('A letra é uma consoante')"
   ]
  },
  {
   "cell_type": "markdown",
   "metadata": {},
   "source": [
    "3. Faça um programa para a leitura de duas notas parciais de um aluno. O programa deve calcular a média alcançada por aluno e apresentar: - A mensagem \"Aprovado\", se a média alcançada for maior ou igual a sete; - A mensagem \"Reprovado\", se a média for menor do que sete; - A mensagem \"Aprovado com Distinção\", se a média for igual a dez. "
   ]
  },
  {
   "cell_type": "code",
   "execution_count": 14,
   "metadata": {},
   "outputs": [
    {
     "name": "stdout",
     "output_type": "stream",
     "text": [
      "Primeira nota: 4\n",
      "Segunda nota: 4\n",
      "Reprovado\n"
     ]
    }
   ],
   "source": [
    "nota1 = float (input('Primeira nota: '))\n",
    "nota2= float (input('Segunda nota: '))\n",
    "\n",
    "media = (nota1 + nota2) / 2\n",
    "\n",
    "if media >=7:\n",
    "    print('Aprovado')\n",
    "else:\n",
    "    print('Reprovado')"
   ]
  },
  {
   "cell_type": "markdown",
   "metadata": {},
   "source": [
    "4. Faça um Programa que leia três números e mostre-os em ordem decrescente. "
   ]
  },
  {
   "cell_type": "code",
   "execution_count": 27,
   "metadata": {},
   "outputs": [
    {
     "name": "stdout",
     "output_type": "stream",
     "text": [
      "Primeiro número:555\n",
      "Segundo número:2\n",
      "Terceiro número:65\n",
      "65 555 2\n"
     ]
    }
   ],
   "source": [
    "n1 = input('Primeiro número:')\n",
    "n2 = input('Segundo número:')\n",
    "n3= input('Terceiro número:')\n",
    "\n",
    "if n1 > n2 and n1 > n3 and n2 > n3:\n",
    "    print (n1, n2, n3)\n",
    "elif n1 > n2 and n1 > n3 and n3 > n2:\n",
    "    print (n1, n3, n2)\n",
    "elif n2 > n1 and n2 > n3 and n1 > n3:\n",
    "    print (n2, n1, n3)\n",
    "elif n2 > n1 and n2 > n3 and n3 > n1:\n",
    "    print (n2, n3, n1)\n",
    "elif n3 > n1 and n3 > n2 and n1 > n2:\n",
    "    print (n3, n1, n2)\n",
    "elif n3 > n1 and n3 > n2 and n2 > n1:\n",
    "    print (n3, n2, n1)\n",
    "else:\n",
    "    print('Os números são iguais')"
   ]
  },
  {
   "cell_type": "markdown",
   "metadata": {},
   "source": [
    "5. As Organizações Tabajara resolveram dar um aumento de salário aos seus colaboradores e lhe contrataram para desenvolver o programa que calculará os reajustes. Faça um programa que recebe o salário de um colaborador e o reajuste segundo o seguinte critério, baseado no salário atual: - salários até R$ 280,00 (incluindo) : aumento de 20% - salários entre R$ 280,00 e R$ 700,00 : aumento de 15% - salários entre R$ 700,00 e R$ 1500,00 : aumento de 10% - salários de R$ 1500,00 em diante : aumento de 5% Após o aumento ser realizado, informe na tela: - o salário antes do reajuste; - o percentual de aumento aplicado; - o valor do aumento; - o novo salário, após o aumento. \n",
    " "
   ]
  },
  {
   "cell_type": "code",
   "execution_count": 28,
   "metadata": {},
   "outputs": [
    {
     "name": "stdout",
     "output_type": "stream",
     "text": [
      "Digite o salário:700,00\n"
     ]
    },
    {
     "ename": "TypeError",
     "evalue": "'<=' not supported between instances of 'str' and 'float'",
     "output_type": "error",
     "traceback": [
      "\u001b[1;31m---------------------------------------------------------------------------\u001b[0m",
      "\u001b[1;31mTypeError\u001b[0m                                 Traceback (most recent call last)",
      "\u001b[1;32m<ipython-input-28-a6a0ddb58e44>\u001b[0m in \u001b[0;36m<module>\u001b[1;34m()\u001b[0m\n\u001b[0;32m      1\u001b[0m \u001b[0msalario\u001b[0m \u001b[1;33m=\u001b[0m \u001b[0minput\u001b[0m\u001b[1;33m(\u001b[0m\u001b[1;34m'Digite o salário:'\u001b[0m\u001b[1;33m)\u001b[0m\u001b[1;33m\u001b[0m\u001b[0m\n\u001b[0;32m      2\u001b[0m \u001b[1;33m\u001b[0m\u001b[0m\n\u001b[1;32m----> 3\u001b[1;33m \u001b[1;32mif\u001b[0m \u001b[0msalario\u001b[0m \u001b[1;33m<=\u001b[0m \u001b[1;36m280.00\u001b[0m\u001b[1;33m:\u001b[0m\u001b[1;33m\u001b[0m\u001b[0m\n\u001b[0m\u001b[0;32m      4\u001b[0m       \u001b[0mpor\u001b[0m \u001b[1;33m=\u001b[0m \u001b[1;33m(\u001b[0m\u001b[1;36m20\u001b[0m \u001b[1;33m/\u001b[0m \u001b[1;36m100.0\u001b[0m\u001b[1;33m)\u001b[0m \u001b[1;33m*\u001b[0m \u001b[0msalario\u001b[0m\u001b[1;33m\u001b[0m\u001b[0m\n\u001b[0;32m      5\u001b[0m       \u001b[0mresultado\u001b[0m \u001b[1;33m=\u001b[0m \u001b[0msalario\u001b[0m \u001b[1;33m+\u001b[0m \u001b[0mpor\u001b[0m\u001b[1;33m\u001b[0m\u001b[0m\n",
      "\u001b[1;31mTypeError\u001b[0m: '<=' not supported between instances of 'str' and 'float'"
     ]
    }
   ],
   "source": [
    "salario = float(input('Digite o salário:'))\n",
    "\n",
    "if salario <= 280.00:\n",
    "      por = (20 / 100.0) * salario\n",
    "      resultado = salario + por\n",
    "      print ('Salário antes do reajuste: R$', salario)\n",
    "      print ('Percentual aumentado: %', 20)\n",
    "      print ('O valor do aumento é: R$', por)\n",
    "      print ('Com o reajuste, o salário é: R$', resultado)\n",
    "\n",
    "elif salario > 280.00 and salario <= 700.00:\n",
    "        por = (15 / 100.0) * salario\n",
    "        resultado = salario + por\n",
    "        print ('Salário antes do reajuste: R$',salario)\n",
    "        print ('Percentual aumentado: %',15)\n",
    "        print ('O valor do aumento é: R$',por)\n",
    "        print ('Com o reajuste, o salário é: R$',resultado)\n",
    "\n",
    "elif salario > 700.00 and salario <= 1500.00:\n",
    "        por = (10 / 100.0) * salario\n",
    "        resultado = salario + por\n",
    "        print ('Salário antes do reajuste: R$',salario)\n",
    "        print ('Percentual aumentado: %',10)\n",
    "        print ('O valor do aumento é: R$',por)\n",
    "        print ('Com o reajuste, o salário é: R$',resultado)\n",
    "\n",
    "elif salario > 1500.00:\n",
    "        por = (5 / 100.0) * salario\n",
    "        resultado = salario + por\n",
    "        print ('Salário antes do reajuste: R$',salario)\n",
    "        print ('Percentual aumentado: %',5)\n",
    "        print ('O valor do aumento é: R$',por)\n",
    "        print ('Com o reajuste, o salário é: R$',resultado)"
   ]
  },
  {
   "cell_type": "markdown",
   "metadata": {},
   "source": [
    "6. Faça um Programa que leia um número e exiba o dia correspondente da semana. (1-Domingo, 2- Segunda, etc.), se digitar outro valor deve aparecer valor inválido. "
   ]
  },
  {
   "cell_type": "code",
   "execution_count": 37,
   "metadata": {},
   "outputs": [
    {
     "name": "stdout",
     "output_type": "stream",
     "text": [
      "Digite o número:5\n",
      "Quinta\n"
     ]
    }
   ],
   "source": [
    "num = float(input('Digite o número:'))\n",
    "\n",
    "if num == 1:\n",
    "    print ('Domingo')\n",
    "elif num == 2:\n",
    "    print('Segunda')\n",
    "elif num == 3:\n",
    "    print('Terça')\n",
    "elif num == 4:\n",
    "    print('Quarta')\n",
    "elif num == 5:\n",
    "    print('Quinta')\n",
    "elif num == 6:\n",
    "    print('Sexta')\n",
    "elif num == 7:\n",
    "    print('Sábado')\n",
    "else:\n",
    "    print('Inválido')"
   ]
  },
  {
   "cell_type": "markdown",
   "metadata": {},
   "source": [
    "7. Faça um programa que lê as duas notas parciais obtidas por um aluno numa disciplina ao longo de um semestre, e calcule a sua média. A atribuição de conceitos obedece à tabela abaixo:   Média de Aproveitamento  Conceito   Entre 9.0 e 10.0        A   Entre 7.5 e 9.0         B   Entre 6.0 e 7.5         C   Entre 4.0 e 6.0         D   Entre 4.0 e zero        E O algoritmo deve mostrar na tela as notas, a média, o conceito correspondente e a mensagem “APROVADO” se o conceito for A, B ou C ou “REPROVADO” se o conceito for D ou E. "
   ]
  },
  {
   "cell_type": "code",
   "execution_count": 40,
   "metadata": {},
   "outputs": [
    {
     "name": "stdout",
     "output_type": "stream",
     "text": [
      "Digite o valor da primeira nota:5\n",
      "Digite o valor da segunda nota:5\n",
      "Nota da primeira prova:  5.0\n",
      "Nota da segunda prova:  5.0\n",
      "Você tirou D!\n",
      "Sua media é de: 5.0\n",
      "Você foi reprovado!\n"
     ]
    }
   ],
   "source": [
    "v1 = float(input('Digite o valor da primeira nota:'))\n",
    "v2 = float(input('Digite o valor da segunda nota:'))\n",
    "\n",
    "nota = (v1 + v2) /2\n",
    "\n",
    "if nota >= 9 and nota <= 10:\n",
    "    print ('Nota da primeira prova: ',v1)\n",
    "    print ('Nota da segunda prova: ',v2)\n",
    "    print ('Você tirou A!')\n",
    "    print ('Sua media é de:',nota)\n",
    "    print ('Você foi aprovado!')\n",
    "\n",
    "elif nota >= 7.5 and nota < 9:\n",
    "    print ('Nota da primeira prova: ',v1)\n",
    "    print ('Nota da segunda prova: ',v2)\n",
    "    print ('Você tirou B!')\n",
    "    print ('Sua media é de:',nota)\n",
    "    print ('Você foi aprovado!')\n",
    "\n",
    "elif nota >= 6.5 and nota < 7.5:\n",
    "    print ('Nota da primeira prova: ',v1)\n",
    "    print ('Nota da segunda prova: ',v2)\n",
    "    print ('Você tirou C!')\n",
    "    print ('Sua media é de:',nota)\n",
    "    print ('Você foi aprovado!')\n",
    "\n",
    "elif nota >= 4 and nota < 6:\n",
    "    print ('Nota da primeira prova: ',v1)\n",
    "    print ('Nota da segunda prova: ',v2)\n",
    "    print ('Você tirou D!')\n",
    "    print ('Sua media é de:',nota)\n",
    "    print ('Você foi reprovado!')\n",
    "\n",
    "elif nota < 4:\n",
    "    print ('Nota da primeira prova: ',v1)\n",
    "    print ('Nota da segunda prova: ',v2)\n",
    "    print ('Você tirou E!')\n",
    "    print ('Sua media é de:',nota)\n",
    "    print ('Você foi reprovado!')"
   ]
  },
  {
   "cell_type": "markdown",
   "metadata": {},
   "source": [
    "8. Faça um Programa que peça os 3 lados de um triângulo. O programa deverá informar se os valores podem ser um triângulo. Indique, caso os lados formem um triângulo, se o mesmo é: equilátero, isósceles ou escaleno. Dicas: - Três lados formam um triângulo quando a soma de quaisquer dois lados for maior que o terceiro; - Triângulo Equilátero: três lados iguais; - Triângulo Isósceles: quaisquer dois lados iguais; - Triângulo Escaleno: três lados diferentes; \n",
    " "
   ]
  },
  {
   "cell_type": "code",
   "execution_count": null,
   "metadata": {},
   "outputs": [],
   "source": [
    "ld1 = input('Digite o primeiro lado: ')\n",
    "ld2 = input('Digite o segundo lado: ')\n",
    "ld3 = input('Digite o segundo lado: ')\n",
    "\n",
    "if ld1 + ld2 > ld3:\n",
    "    if ld1 == ld2 and ld1 == ld3:\n",
    "        print ('Triângulo Equilátero')\n",
    "    elif ld1 == ld2 or ld2 == ld3 or ld1 == ld3:\n",
    "        print ('Triângulo Isósceles')\n",
    "    elif ld1 != ld2 and ld3 or ld2 != ld1 and ld3 or ld1 != ld3:\n",
    "        print ('Triângulo Escaleno')\n",
    "\n",
    "else:\n",
    "    print ('Não é um triângulo')"
   ]
  },
  {
   "cell_type": "markdown",
   "metadata": {},
   "source": [
    "9. Faça um programa que calcule as raízes de uma equação do segundo grau, na forma ax2 + bx + c. O programa deverá pedir os valores de a, b e c e fazer as consistências, informando ao usuário nas seguintes situações: - Se o usuário informar o valor de A igual a zero, a equação não é do segundo grau e o programa não deve fazer pedir os demais valores, sendo encerrado; \n",
    "- Se o delta calculado for negativo, a equação não possui raizes reais. Informe ao usuário e encerre o programa; - Se o delta calculado for igual a zero a equação possui apenas uma raiz real; informe-a ao usuário; - Se o delta for positivo, a equação possui duas raiz reais; informe-as ao usuário; "
   ]
  },
  {
   "cell_type": "code",
   "execution_count": null,
   "metadata": {},
   "outputs": [],
   "source": [
    "import math\n",
    "\n",
    "print('Digite os termos da equacao a, b e c da equacao')\n",
    "a = input(\"digite o termo a: \")\n",
    "if a == 0:\n",
    "    print('Não é uma equacao de segundo grau\")\n",
    "else:\n",
    "    b = input(\"digite o termo b:\")\n",
    "    c = input(\"digite o termo c:\")\n",
    "    delta = (math.pow(b,2) - (4*a*c))\n",
    "    if delta < 0:         \n",
    "          print ('Delta = ',delta,'a equacao nao possui raizes')     \n",
    "    if delta == 0:         \n",
    "          print ('Delta = ',delta,'a equacao possui uma raiz')         \n",
    "          raiz = ((-1)*b + math.sqrt(delta))/(2*a)         \n",
    "          print ('Raiz da equacao = '), raiz     \n",
    "    if delta > 0:\n",
    "        print ('Delta = ',delta,'a equacao possui duas raizes')\n",
    "        raiz1 = ((-1)*b + math.sqrt(delta))/(2*a)\n",
    "        raiz2 = ((-1)*b - math.sqrt(delta))/(2*a)\n",
    "        print ('Raiz1 da equacao = ', raiz1)\n",
    "        print ('Raiz2 da equacao = ', raiz2)"
   ]
  },
  {
   "cell_type": "markdown",
   "metadata": {},
   "source": [
    "10. Faça um Programa para um caixa eletrônico. O programa deverá perguntar ao usuário a valor do saque e depois informar quantas notas de cada valor serão fornecidas. As notas disponíveis serão as de 1, 5, 10, 50 e 100 reais. O valor mínimo é de 10 reais e o máximo de 600 reais. O programa não deve se preocupar com a quantidade de notas existentes na máquina. - Exemplo 1: Para sacar a quantia de 256 reais, o programa fornece duas notas de 100, uma nota de 50, uma nota de 5 e uma nota de 1; - Exemplo 2: Para sacar a quantia de 399 reais, o programa fornece três notas de 100, uma nota de 50, quatro notas de 10, uma nota de 5 e quatro notas de 1. "
   ]
  },
  {
   "cell_type": "code",
   "execution_count": null,
   "metadata": {},
   "outputs": [],
   "source": []
  },
  {
   "cell_type": "markdown",
   "metadata": {},
   "source": [
    "11. Faça um programa que faça 5 perguntas para uma pessoa sobre um crime. As perguntas são: \"Telefonou para a vítima?\" \"Esteve no local do crime?\" \"Mora perto da vítima?\" \"Devia para a vítima?\" \"Já trabalhou com a vítima?\"  O programa deve no final emitir uma classificação sobre a participação da pessoa no crime. Se a pessoa responder positivamente a 2 questões ela deve ser classificada como \"Suspeita\", entre 3 e 4 como \"Cúmplice\" e 5 como \"Assassino\". Caso contrário, ele será classificado como \"Inocente\". \n",
    " "
   ]
  },
  {
   "cell_type": "code",
   "execution_count": null,
   "metadata": {},
   "outputs": [],
   "source": []
  },
  {
   "cell_type": "markdown",
   "metadata": {},
   "source": [
    "12. Uma fruteira está vendendo frutas com a seguinte tabela de preços: \n",
    "                       Até 5 Kg           Acima de 5 Kg Morango         R$ 2,50 por Kg          R$ 2,20 por Kg Maçã            R$ 1,80 por Kg          R$ 1,50 por Kg \n",
    " \n",
    "Se o cliente comprar mais de 8 Kg em frutas ou o valor total da compra ultrapassar R$ 25,00, receberá ainda um desconto de 10% sobre este total. Escreva um algoritmo para ler a quantidade (em Kg) de morangos e a quantidade (em Kg) de maças adquiridas e escreva o valor a ser pago pelo cliente. \n",
    " "
   ]
  },
  {
   "cell_type": "code",
   "execution_count": null,
   "metadata": {},
   "outputs": [],
   "source": [
    "kgmo = float(input('Digite o kg de morangos:'))\n",
    "kgma = float(input('Digite o kg de maça:'))\n",
    "soma = kgmo + kgma\n",
    "\n",
    "if kgmo <= 5 or kgma <= 5:\n",
    "    float precomo = 2,50\n",
    "    float precoma = 1,80\n",
    "else:\n",
    "    float precomo = 2,20\n",
    "    float precoma = 1,50\n",
    "\n",
    "float total = precomo + precoma\n",
    "float por = (10/100)*total\n",
    "\n",
    "if soma == 8 or total == 25,0:\n",
    "    print('Você recebeu 10% de desconto! O valor total a pagar é de ', total - por)\n",
    "else:\n",
    "    print('O valor total a pagar é de ', total)\n"
   ]
  },
  {
   "cell_type": "markdown",
   "metadata": {},
   "source": [
    "Faça um programa que peça uma nota, entre zero e dez. Mostre uma mensagem caso o valor seja inválido e continue pedindo até que o usuário informe um valor válido. "
   ]
  },
  {
   "cell_type": "code",
   "execution_count": null,
   "metadata": {},
   "outputs": [],
   "source": [
    "nota = \"\"\n",
    "while nota < 0 or nota > 10:\n",
    "    nota = float(input(\"Digite uma nota de 0 a 10: \"))\n",
    "    print ('Nota inválida, digite apenas uma nota de 0 a 10')\n",
    "\n",
    "else:\n",
    "print('O valor da nota é:',nota)\n"
   ]
  },
  {
   "cell_type": "markdown",
   "metadata": {},
   "source": [
    " Faça um programa que leia e valide as seguintes informações: Nome: maior que 3 caracteres; Idade: entre 0 e 150; \n",
    "Salário: maior que zero; Sexo: 'f' ou 'm'; Estado Civil: 's', 'c', 'v', 'd'; "
   ]
  },
  {
   "cell_type": "code",
   "execution_count": null,
   "metadata": {},
   "outputs": [],
   "source": [
    "nome = input('Nome:')\n",
    "idade = input('Idade:')\n",
    "salario = input('Salário:')\n",
    "sexo = input('Sexo: (f,m ou ne)')\n",
    "ec = input('Estado civil: (s c v ou d)')\n",
    "\n",
    "while len(nome) < 3 and idade < 0 and idade > 150 and salario < 0 and sexo != f and sexo != f or m or ne and es != s or c or v or d\n",
    "    print('Você digitou um valor inválido')\n",
    "else:\n",
    "    print(nome, idade, salario, sexo, ec)"
   ]
  },
  {
   "cell_type": "markdown",
   "metadata": {},
   "source": [
    "Faça um programa que leia 5 números e informe o maior número."
   ]
  },
  {
   "cell_type": "code",
   "execution_count": null,
   "metadata": {},
   "outputs": [],
   "source": [
    "n1 = float(input('Primeiro número:'))\n",
    "n2 = float(input('Segundo número:'))\n",
    "n3 = float(input('Terceiro número:'))\n",
    "n4 = float(input('Quarto número:'))\n",
    "n5 = float(input('Quinto número:'))\n",
    "\n",
    "while n1 > n2 and n1 > n3 and n1 > n4 and n1 > n5\n",
    "    print ('O maior numero é: ', n1)\n",
    "while n2 > n1 and n2 > n3 and n2 > n4 and n2 > n5\n",
    "   print ('O maior numero é: ', n2)\n",
    "while n3 > n1 and n3 > n2 and n3 > n4 and n3 > n5\n",
    "    print ('O maior numero é: ', n3)\n",
    "while n4 > n1 and n4 > n2 and n4 > n3 and n4 > n5\n",
    "    print ('O maior numero é: ', n4)\n",
    "else:\n",
    "    print ('O maior numero é: ', n5)"
   ]
  },
  {
   "cell_type": "markdown",
   "metadata": {},
   "source": [
    "Faça um programa que leia 5 números e informe a soma e a média dos número"
   ]
  },
  {
   "cell_type": "code",
   "execution_count": null,
   "metadata": {},
   "outputs": [],
   "source": [
    "n1 = float(input('Primeiro número:'))\n",
    "n2 = float(input('Segundo número:'))\n",
    "n3 = float(input('Terceiro número:'))\n",
    "n4 = float(input('Quarto número:'))\n",
    "n5 = float(input('Quinto número:'))\n",
    "\n",
    "soma = n1 + n2 + n3 + n4 + n5\n",
    "media = soma / 5\n",
    "\n",
    "print('A soma é: ', soma, ' e a média é: ', media)"
   ]
  },
  {
   "cell_type": "markdown",
   "metadata": {},
   "source": [
    "Faça um programa que imprima na tela apenas os números ímpares entre 1 e 50"
   ]
  },
  {
   "cell_type": "code",
   "execution_count": null,
   "metadata": {},
   "outputs": [],
   "source": []
  },
  {
   "cell_type": "code",
   "execution_count": null,
   "metadata": {},
   "outputs": [],
   "source": [
    "x = 0\n",
    "while x / 2 != 0\n",
    "    print(x)\n",
    "    x+1\n",
    "else:"
   ]
  },
  {
   "cell_type": "markdown",
   "metadata": {},
   "source": [
    "Desenvolva um gerador de tabuada, capaz de gerar a tabuada de qualquer número inteiro entre 1 a 10. O usuário deve informar de qual numero ele deseja ver a tabuada. A saída deve ser conforme o exemplo abaixo: Tabuada de 5: 5 X 1 = 5 5 X 2 = 10 ... 5 X 10 = 50 \n",
    " "
   ]
  },
  {
   "cell_type": "code",
   "execution_count": null,
   "metadata": {},
   "outputs": [],
   "source": [
    "n = input('Digita o numero que deseja ver a tabuada:')\n",
    "\n",
    "x = 1\n",
    "while x >= 1 and x <= 10\n",
    "    print(n, \"X\", x, \"=\", n*x)\n",
    "    x+1\n",
    "else"
   ]
  },
  {
   "cell_type": "markdown",
   "metadata": {},
   "source": [
    "A série de Fibonacci é formada pela seqüência 1,1,2,3,5,8,13,21,34,55,... Faça um programa capaz de gerar a série até o n−ésimo termo. "
   ]
  },
  {
   "cell_type": "code",
   "execution_count": null,
   "metadata": {},
   "outputs": [],
   "source": [
    "fibo = [1,1]\n",
    "i = 0\n",
    "num = input(\"Digite um número: \")\n",
    "\n",
    "while num > len(fibo):\n",
    "    fibo.append(fibo[i] + fibo[i+1])\n",
    "    i+=1\n",
    "\n",
    "print ('Fibonacci:', (num,fibo[num-1]))"
   ]
  },
  {
   "cell_type": "markdown",
   "metadata": {},
   "source": [
    " Faça um programa que calcule o fatorial de um número inteiro fornecido pelo usuário. Ex.: 5!=5.4.3.2.1=120 "
   ]
  },
  {
   "cell_type": "code",
   "execution_count": null,
   "metadata": {},
   "outputs": [],
   "source": []
  },
  {
   "cell_type": "markdown",
   "metadata": {},
   "source": [
    "Faça um programa que mostre os n termos da Série a seguir:   S = 1/1 + 2/3 + 3/5 + 4/7 + 5/9 + ... + n/m.  Imprima no final a soma da série. "
   ]
  },
  {
   "cell_type": "code",
   "execution_count": null,
   "metadata": {},
   "outputs": [],
   "source": []
  },
  {
   "cell_type": "code",
   "execution_count": null,
   "metadata": {},
   "outputs": [],
   "source": []
  },
  {
   "cell_type": "code",
   "execution_count": null,
   "metadata": {},
   "outputs": [],
   "source": []
  },
  {
   "cell_type": "code",
   "execution_count": null,
   "metadata": {},
   "outputs": [],
   "source": []
  },
  {
   "cell_type": "code",
   "execution_count": null,
   "metadata": {},
   "outputs": [],
   "source": []
  },
  {
   "cell_type": "code",
   "execution_count": null,
   "metadata": {},
   "outputs": [],
   "source": []
  },
  {
   "cell_type": "code",
   "execution_count": null,
   "metadata": {},
   "outputs": [],
   "source": []
  },
  {
   "cell_type": "code",
   "execution_count": null,
   "metadata": {},
   "outputs": [],
   "source": []
  },
  {
   "cell_type": "code",
   "execution_count": null,
   "metadata": {},
   "outputs": [],
   "source": []
  },
  {
   "cell_type": "code",
   "execution_count": null,
   "metadata": {},
   "outputs": [],
   "source": []
  },
  {
   "cell_type": "code",
   "execution_count": null,
   "metadata": {},
   "outputs": [],
   "source": []
  },
  {
   "cell_type": "code",
   "execution_count": null,
   "metadata": {},
   "outputs": [],
   "source": []
  },
  {
   "cell_type": "code",
   "execution_count": null,
   "metadata": {},
   "outputs": [],
   "source": []
  },
  {
   "cell_type": "code",
   "execution_count": null,
   "metadata": {},
   "outputs": [],
   "source": []
  },
  {
   "cell_type": "code",
   "execution_count": null,
   "metadata": {},
   "outputs": [],
   "source": []
  },
  {
   "cell_type": "code",
   "execution_count": null,
   "metadata": {},
   "outputs": [],
   "source": []
  },
  {
   "cell_type": "code",
   "execution_count": null,
   "metadata": {},
   "outputs": [],
   "source": []
  },
  {
   "cell_type": "code",
   "execution_count": null,
   "metadata": {},
   "outputs": [],
   "source": []
  },
  {
   "cell_type": "code",
   "execution_count": null,
   "metadata": {},
   "outputs": [],
   "source": []
  },
  {
   "cell_type": "code",
   "execution_count": null,
   "metadata": {},
   "outputs": [],
   "source": []
  },
  {
   "cell_type": "code",
   "execution_count": null,
   "metadata": {},
   "outputs": [],
   "source": []
  },
  {
   "cell_type": "code",
   "execution_count": null,
   "metadata": {},
   "outputs": [],
   "source": []
  },
  {
   "cell_type": "code",
   "execution_count": null,
   "metadata": {},
   "outputs": [],
   "source": []
  },
  {
   "cell_type": "code",
   "execution_count": null,
   "metadata": {},
   "outputs": [],
   "source": []
  },
  {
   "cell_type": "code",
   "execution_count": null,
   "metadata": {},
   "outputs": [],
   "source": []
  },
  {
   "cell_type": "code",
   "execution_count": null,
   "metadata": {},
   "outputs": [],
   "source": []
  },
  {
   "cell_type": "code",
   "execution_count": null,
   "metadata": {},
   "outputs": [],
   "source": []
  },
  {
   "cell_type": "code",
   "execution_count": null,
   "metadata": {},
   "outputs": [],
   "source": []
  },
  {
   "cell_type": "code",
   "execution_count": null,
   "metadata": {},
   "outputs": [],
   "source": []
  },
  {
   "cell_type": "code",
   "execution_count": null,
   "metadata": {},
   "outputs": [],
   "source": []
  },
  {
   "cell_type": "code",
   "execution_count": null,
   "metadata": {},
   "outputs": [],
   "source": []
  },
  {
   "cell_type": "code",
   "execution_count": null,
   "metadata": {},
   "outputs": [],
   "source": []
  }
 ],
 "metadata": {
  "kernelspec": {
   "display_name": "Python 3",
   "language": "python",
   "name": "python3"
  },
  "language_info": {
   "codemirror_mode": {
    "name": "ipython",
    "version": 3
   },
   "file_extension": ".py",
   "mimetype": "text/x-python",
   "name": "python",
   "nbconvert_exporter": "python",
   "pygments_lexer": "ipython3",
   "version": "3.6.4"
  }
 },
 "nbformat": 4,
 "nbformat_minor": 2
}
